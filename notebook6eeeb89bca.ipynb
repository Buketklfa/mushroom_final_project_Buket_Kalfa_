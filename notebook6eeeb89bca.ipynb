{
  "metadata": {
    "kernelspec": {
      "language": "python",
      "display_name": "Python 3",
      "name": "python3"
    },
    "language_info": {
      "name": "python",
      "version": "3.10.14",
      "mimetype": "text/x-python",
      "codemirror_mode": {
        "name": "ipython",
        "version": 3
      },
      "pygments_lexer": "ipython3",
      "nbconvert_exporter": "python",
      "file_extension": ".py"
    },
    "kaggle": {
      "accelerator": "none",
      "dataSources": [
        {
          "sourceId": 974,
          "sourceType": "datasetVersion",
          "datasetId": 478
        }
      ],
      "dockerImageVersionId": 30761,
      "isInternetEnabled": true,
      "language": "python",
      "sourceType": "notebook",
      "isGpuEnabled": false
    },
    "colab": {
      "name": "notebook6eeeb89bca",
      "provenance": [],
      "include_colab_link": true
    }
  },
  "nbformat_minor": 0,
  "nbformat": 4,
  "cells": [
    {
      "cell_type": "markdown",
      "metadata": {
        "id": "view-in-github",
        "colab_type": "text"
      },
      "source": [
        "<a href=\"https://colab.research.google.com/github/Buketklfa/mushroom_final_project_Buket_Kalfa_/blob/main/notebook6eeeb89bca.ipynb\" target=\"_parent\"><img src=\"https://colab.research.google.com/assets/colab-badge.svg\" alt=\"Open In Colab\"/></a>"
      ]
    },
    {
      "source": [
        "\n",
        "# IMPORTANT: RUN THIS CELL IN ORDER TO IMPORT YOUR KAGGLE DATA SOURCES\n",
        "# TO THE CORRECT LOCATION (/kaggle/input) IN YOUR NOTEBOOK,\n",
        "# THEN FEEL FREE TO DELETE THIS CELL.\n",
        "# NOTE: THIS NOTEBOOK ENVIRONMENT DIFFERS FROM KAGGLE'S PYTHON\n",
        "# ENVIRONMENT SO THERE MAY BE MISSING LIBRARIES USED BY YOUR\n",
        "# NOTEBOOK.\n",
        "\n",
        "import os\n",
        "import sys\n",
        "from tempfile import NamedTemporaryFile\n",
        "from urllib.request import urlopen\n",
        "from urllib.parse import unquote, urlparse\n",
        "from urllib.error import HTTPError\n",
        "from zipfile import ZipFile\n",
        "import tarfile\n",
        "import shutil\n",
        "\n",
        "CHUNK_SIZE = 40960\n",
        "DATA_SOURCE_MAPPING = 'mushroom-classification:https%3A%2F%2Fstorage.googleapis.com%2Fkaggle-data-sets%2F478%2F974%2Fbundle%2Farchive.zip%3FX-Goog-Algorithm%3DGOOG4-RSA-SHA256%26X-Goog-Credential%3Dgcp-kaggle-com%2540kaggle-161607.iam.gserviceaccount.com%252F20240919%252Fauto%252Fstorage%252Fgoog4_request%26X-Goog-Date%3D20240919T073651Z%26X-Goog-Expires%3D259200%26X-Goog-SignedHeaders%3Dhost%26X-Goog-Signature%3D2b18edd304340e47072c7ae40edff48f6956dab651f2234da19595cb679bb1883e7051499e11f87ebc5c853187d4f93a4cf1c19fe03e5775b0adc3efc0476785fdf85a112f61a6713bc5d91f1ec50a25a58f2a0e3cf33bfc10e59012145e69839373603b28cf9024a781db163c5f6f3847b34ae1ae69de11b2b2e2bf1958563acfc0b96840747485dd45f2b4f298c140fd270b8f7d57fffcb195043b18410a96ee5c5048e3c94d176f7441ded8cbbc95bb502208845f396d53ffeadb33a1b7f5f69778777168398bef6e34f177819a86d4ca573041603d2a5d12872295dbff0fc6daea51212dfdf13043c5002667744c0c609f988b74c01ab73a3af3995d5895'\n",
        "\n",
        "KAGGLE_INPUT_PATH='/kaggle/input'\n",
        "KAGGLE_WORKING_PATH='/kaggle/working'\n",
        "KAGGLE_SYMLINK='kaggle'\n",
        "\n",
        "!umount /kaggle/input/ 2> /dev/null\n",
        "shutil.rmtree('/kaggle/input', ignore_errors=True)\n",
        "os.makedirs(KAGGLE_INPUT_PATH, 0o777, exist_ok=True)\n",
        "os.makedirs(KAGGLE_WORKING_PATH, 0o777, exist_ok=True)\n",
        "\n",
        "try:\n",
        "  os.symlink(KAGGLE_INPUT_PATH, os.path.join(\"..\", 'input'), target_is_directory=True)\n",
        "except FileExistsError:\n",
        "  pass\n",
        "try:\n",
        "  os.symlink(KAGGLE_WORKING_PATH, os.path.join(\"..\", 'working'), target_is_directory=True)\n",
        "except FileExistsError:\n",
        "  pass\n",
        "\n",
        "for data_source_mapping in DATA_SOURCE_MAPPING.split(','):\n",
        "    directory, download_url_encoded = data_source_mapping.split(':')\n",
        "    download_url = unquote(download_url_encoded)\n",
        "    filename = urlparse(download_url).path\n",
        "    destination_path = os.path.join(KAGGLE_INPUT_PATH, directory)\n",
        "    try:\n",
        "        with urlopen(download_url) as fileres, NamedTemporaryFile() as tfile:\n",
        "            total_length = fileres.headers['content-length']\n",
        "            print(f'Downloading {directory}, {total_length} bytes compressed')\n",
        "            dl = 0\n",
        "            data = fileres.read(CHUNK_SIZE)\n",
        "            while len(data) > 0:\n",
        "                dl += len(data)\n",
        "                tfile.write(data)\n",
        "                done = int(50 * dl / int(total_length))\n",
        "                sys.stdout.write(f\"\\r[{'=' * done}{' ' * (50-done)}] {dl} bytes downloaded\")\n",
        "                sys.stdout.flush()\n",
        "                data = fileres.read(CHUNK_SIZE)\n",
        "            if filename.endswith('.zip'):\n",
        "              with ZipFile(tfile) as zfile:\n",
        "                zfile.extractall(destination_path)\n",
        "            else:\n",
        "              with tarfile.open(tfile.name) as tarfile:\n",
        "                tarfile.extractall(destination_path)\n",
        "            print(f'\\nDownloaded and uncompressed: {directory}')\n",
        "    except HTTPError as e:\n",
        "        print(f'Failed to load (likely expired) {download_url} to path {destination_path}')\n",
        "        continue\n",
        "    except OSError as e:\n",
        "        print(f'Failed to load {download_url} to path {destination_path}')\n",
        "        continue\n",
        "\n",
        "print('Data source import complete.')\n"
      ],
      "metadata": {
        "id": "8-EOpe1uNm0U"
      },
      "cell_type": "code",
      "outputs": [],
      "execution_count": null
    },
    {
      "cell_type": "code",
      "source": [
        "# This Python 3 environment comes with many helpful analytics libraries installed\n",
        "# It is defined by the kaggle/python Docker image: https://github.com/kaggle/docker-python\n",
        "# For example, here's several helpful packages to load\n",
        "\n",
        "import numpy as np # linear algebra\n",
        "import pandas as pd # data processing, CSV file I/O (e.g. pd.read_csv)\n",
        "\n",
        "# Input data files are available in the read-only \"../input/\" directory\n",
        "# For example, running this (by clicking run or pressing Shift+Enter) will list all files under the input directory\n",
        "\n",
        "import os\n",
        "for dirname, _, filenames in os.walk('/kaggle/input'):\n",
        "    for filename in filenames:\n",
        "        print(os.path.join(dirname, filename))\n",
        "\n",
        "# You can write up to 20GB to the current directory (/kaggle/working/) that gets preserved as output when you create a version using \"Save & Run All\"\n",
        "# You can also write temporary files to /kaggle/temp/, but they won't be saved outside of the current session"
      ],
      "metadata": {
        "_uuid": "8f2839f25d086af736a60e9eeb907d3b93b6e0e5",
        "_cell_guid": "b1076dfc-b9ad-4769-8c92-a6c4dae69d19",
        "execution": {
          "iopub.status.busy": "2024-09-17T17:26:39.59379Z",
          "iopub.execute_input": "2024-09-17T17:26:39.594255Z",
          "iopub.status.idle": "2024-09-17T17:26:39.604776Z",
          "shell.execute_reply.started": "2024-09-17T17:26:39.594214Z",
          "shell.execute_reply": "2024-09-17T17:26:39.603689Z"
        },
        "trusted": true,
        "id": "eCCXiQdhNm0a"
      },
      "execution_count": null,
      "outputs": []
    },
    {
      "cell_type": "code",
      "source": [
        "df = pd.read_csv('/kaggle/input/mushroom-classification/mushrooms.csv')"
      ],
      "metadata": {
        "execution": {
          "iopub.status.busy": "2024-09-17T17:26:53.59336Z",
          "iopub.execute_input": "2024-09-17T17:26:53.594325Z",
          "iopub.status.idle": "2024-09-17T17:26:53.626546Z",
          "shell.execute_reply.started": "2024-09-17T17:26:53.594265Z",
          "shell.execute_reply": "2024-09-17T17:26:53.625378Z"
        },
        "trusted": true,
        "id": "a-Iyep-FNm0b"
      },
      "execution_count": null,
      "outputs": []
    },
    {
      "cell_type": "code",
      "source": [
        "# Veri setinin ilk 5 satırını görüntüleyelim\n",
        "df.head()\n",
        "\n",
        "# Veri seti hakkında genel bilgi alalım\n",
        "df.info()\n",
        "\n",
        "# Veri setindeki özet istatistikleri inceleyelim\n",
        "df.describe()"
      ],
      "metadata": {
        "execution": {
          "iopub.status.busy": "2024-09-17T17:26:57.966929Z",
          "iopub.execute_input": "2024-09-17T17:26:57.967375Z",
          "iopub.status.idle": "2024-09-17T17:26:58.115227Z",
          "shell.execute_reply.started": "2024-09-17T17:26:57.96733Z",
          "shell.execute_reply": "2024-09-17T17:26:58.114107Z"
        },
        "trusted": true,
        "id": "hRSJUQBANm0b"
      },
      "execution_count": null,
      "outputs": []
    },
    {
      "cell_type": "code",
      "source": [
        "import matplotlib.pyplot as plt\n",
        "import seaborn as sns\n",
        "\n",
        "# Bağımlı değişkenin (class) dağılımı\n",
        "sns.countplot(x='class', data=df)\n",
        "plt.title('Sınıf Dağılımı (Yenilebilir/Zehirli)')\n",
        "plt.show()\n",
        "\n",
        "# Diğer kategorik değişkenlerin bazılarını inceleyelim\n",
        "plt.figure(figsize=(12,6))\n",
        "sns.countplot(x='odor', data=df, hue='class')\n",
        "plt.title('Koku Özelliği ile Sınıf Dağılımı')\n",
        "plt.show()"
      ],
      "metadata": {
        "execution": {
          "iopub.status.busy": "2024-09-17T17:27:55.869769Z",
          "iopub.execute_input": "2024-09-17T17:27:55.870714Z",
          "iopub.status.idle": "2024-09-17T17:27:57.626451Z",
          "shell.execute_reply.started": "2024-09-17T17:27:55.870655Z",
          "shell.execute_reply": "2024-09-17T17:27:57.625424Z"
        },
        "trusted": true,
        "id": "s4un4yqONm0c"
      },
      "execution_count": null,
      "outputs": []
    },
    {
      "cell_type": "code",
      "source": [
        "from sklearn.preprocessing import LabelEncoder\n",
        "\n",
        "# Tüm kategorik değişkenleri sayısal hale getirmek için Label Encoding\n",
        "label_encoder = LabelEncoder()\n",
        "\n",
        "for column in df.columns:\n",
        "    df[column] = label_encoder.fit_transform(df[column])\n",
        "\n",
        "# Veri kümesini eğitim ve test olarak bölme\n",
        "from sklearn.model_selection import train_test_split\n",
        "\n",
        "X = df.drop('class', axis=1)  # Bağımsız değişkenler\n",
        "y = df['class']  # Bağımlı değişken (yenilebilir/zehirli)\n",
        "\n",
        "X_train, X_test, y_train, y_test = train_test_split(X, y, test_size=0.2, random_state=42)"
      ],
      "metadata": {
        "execution": {
          "iopub.status.busy": "2024-09-17T17:32:43.925168Z",
          "iopub.execute_input": "2024-09-17T17:32:43.926074Z",
          "iopub.status.idle": "2024-09-17T17:32:43.955915Z",
          "shell.execute_reply.started": "2024-09-17T17:32:43.92603Z",
          "shell.execute_reply": "2024-09-17T17:32:43.95495Z"
        },
        "trusted": true,
        "id": "a_uQHqtINm0c"
      },
      "execution_count": null,
      "outputs": []
    },
    {
      "cell_type": "code",
      "source": [
        "# İterasyon sayısını artırarak uyarıyı çözebiliriz\n",
        "model = LogisticRegression(max_iter=500)\n",
        "model.fit(X_train, y_train)\n",
        "\n",
        "# Model performansı\n",
        "y_pred = model.predict(X_test)\n",
        "print('Doğruluk Skoru:', accuracy_score(y_test, y_pred))\n",
        "print('Sınıflandırma Raporu:')\n",
        "print(classification_report(y_test, y_pred))from sklearn.cluster import KMeans\n",
        "import seaborn as sns\n",
        "import matplotlib.pyplot as plt\n",
        "\n",
        "# K-Means kümeleme (n_clusters=2 çünkü mantarlar iki sınıfa ayrılıyor)\n",
        "kmeans = KMeans(n_clusters=2, random_state=42)\n",
        "kmeans.fit(X)\n",
        "\n",
        "# Küme etiketlerini ekleyelim\n",
        "df['cluster'] = kmeans.labels_\n",
        "\n",
        "# Kümeleme sonuçlarını inceleyelim\n",
        "sns.countplot(x='cluster', data=df)\n",
        "plt.title('K-Means Kümeleme Sonuçları')\n",
        "plt.show()\n",
        "\n",
        "# Kümelerin sınıflarla nasıl eşleştiğini görelim\n",
        "ct = pd.crosstab(df['class'], df['cluster'])\n",
        "print(ct)"
      ],
      "metadata": {
        "execution": {
          "iopub.status.busy": "2024-09-17T17:32:47.991586Z",
          "iopub.execute_input": "2024-09-17T17:32:47.992012Z",
          "iopub.status.idle": "2024-09-17T17:32:48.512331Z",
          "shell.execute_reply.started": "2024-09-17T17:32:47.991974Z",
          "shell.execute_reply": "2024-09-17T17:32:48.51086Z"
        },
        "trusted": true,
        "id": "JFVSgo4DNm0d"
      },
      "execution_count": null,
      "outputs": []
    },
    {
      "cell_type": "code",
      "source": [
        "from sklearn.cluster import KMeans\n",
        "import seaborn as sns\n",
        "import matplotlib.pyplot as plt\n",
        "\n",
        "# K-Means kümeleme (n_clusters=2 çünkü mantarlar iki sınıfa ayrılıyor)\n",
        "kmeans = KMeans(n_clusters=2, random_state=42)\n",
        "kmeans.fit(X)\n",
        "\n",
        "# Küme etiketlerini ekleyelim\n",
        "df['cluster'] = kmeans.labels_\n",
        "\n",
        "# Kümeleme sonuçlarını inceleyelim\n",
        "sns.countplot(x='cluster', data=df)\n",
        "plt.title('K-Means Kümeleme Sonuçları')\n",
        "plt.show()\n",
        "\n",
        "# Kümelerin sınıflarla nasıl eşleştiğini görelim\n",
        "ct = pd.crosstab(df['class'], df['cluster'])\n",
        "print(ct)"
      ],
      "metadata": {
        "execution": {
          "iopub.status.busy": "2024-09-17T17:34:13.672508Z",
          "iopub.execute_input": "2024-09-17T17:34:13.673013Z",
          "iopub.status.idle": "2024-09-17T17:34:15.421928Z",
          "shell.execute_reply.started": "2024-09-17T17:34:13.672968Z",
          "shell.execute_reply": "2024-09-17T17:34:15.420566Z"
        },
        "trusted": true,
        "id": "atj4A2iCNm0d"
      },
      "execution_count": null,
      "outputs": []
    },
    {
      "cell_type": "code",
      "source": [
        "# K-Means kümeleme (n_clusters=2, n_init=10 olarak ayarlandı)\n",
        "kmeans = KMeans(n_clusters=2, random_state=42, n_init=10)\n",
        "kmeans.fit(X)\n",
        "\n",
        "# Küme etiketlerini ekleyelim\n",
        "df['cluster'] = kmeans.labels_\n",
        "\n",
        "# Kümeleme sonuçlarını inceleyelim\n",
        "sns.countplot(x='cluster', data=df)\n",
        "plt.title('K-Means Kümeleme Sonuçları')\n",
        "plt.show()\n",
        "\n",
        "# Kümelerin sınıflarla nasıl eşleştiğini görelim\n",
        "ct = pd.crosstab(df['class'], df['cluster'])\n",
        "print(ct)"
      ],
      "metadata": {
        "execution": {
          "iopub.status.busy": "2024-09-17T17:35:05.091794Z",
          "iopub.execute_input": "2024-09-17T17:35:05.092246Z",
          "iopub.status.idle": "2024-09-17T17:35:06.499887Z",
          "shell.execute_reply.started": "2024-09-17T17:35:05.092208Z",
          "shell.execute_reply": "2024-09-17T17:35:06.498683Z"
        },
        "trusted": true,
        "id": "hyh-DdGgNm0e"
      },
      "execution_count": null,
      "outputs": []
    }
  ]
}