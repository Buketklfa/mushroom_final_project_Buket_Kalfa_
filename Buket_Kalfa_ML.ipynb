{
  "metadata": {
    "kernelspec": {
      "language": "python",
      "display_name": "Python 3",
      "name": "python3"
    },
    "language_info": {
      "name": "python",
      "version": "3.10.14",
      "mimetype": "text/x-python",
      "codemirror_mode": {
        "name": "ipython",
        "version": 3
      },
      "pygments_lexer": "ipython3",
      "nbconvert_exporter": "python",
      "file_extension": ".py"
    },
    "kaggle": {
      "accelerator": "none",
      "dataSources": [
        {
          "sourceId": 974,
          "sourceType": "datasetVersion",
          "datasetId": 478
        }
      ],
      "dockerImageVersionId": 30761,
      "isInternetEnabled": true,
      "language": "python",
      "sourceType": "notebook",
      "isGpuEnabled": false
    },
    "colab": {
      "name": "Buket_Kalfa_ML",
      "provenance": [],
      "include_colab_link": true
    }
  },
  "nbformat_minor": 0,
  "nbformat": 4,
  "cells": [
    {
      "cell_type": "markdown",
      "metadata": {
        "id": "view-in-github",
        "colab_type": "text"
      },
      "source": [
        "<a href=\"https://colab.research.google.com/github/Buketklfa/mushroom_final_project_Buket_Kalfa_/blob/main/Buket_Kalfa_ML.ipynb\" target=\"_parent\"><img src=\"https://colab.research.google.com/assets/colab-badge.svg\" alt=\"Open In Colab\"/></a>"
      ]
    },
    {
      "source": [
        "\n",
        "# IMPORTANT: RUN THIS CELL IN ORDER TO IMPORT YOUR KAGGLE DATA SOURCES\n",
        "# TO THE CORRECT LOCATION (/kaggle/input) IN YOUR NOTEBOOK,\n",
        "# THEN FEEL FREE TO DELETE THIS CELL.\n",
        "# NOTE: THIS NOTEBOOK ENVIRONMENT DIFFERS FROM KAGGLE'S PYTHON\n",
        "# ENVIRONMENT SO THERE MAY BE MISSING LIBRARIES USED BY YOUR\n",
        "# NOTEBOOK.\n",
        "\n",
        "import os\n",
        "import sys\n",
        "from tempfile import NamedTemporaryFile\n",
        "from urllib.request import urlopen\n",
        "from urllib.parse import unquote, urlparse\n",
        "from urllib.error import HTTPError\n",
        "from zipfile import ZipFile\n",
        "import tarfile\n",
        "import shutil\n",
        "\n",
        "CHUNK_SIZE = 40960\n",
        "DATA_SOURCE_MAPPING = 'mushroom-classification:https%3A%2F%2Fstorage.googleapis.com%2Fkaggle-data-sets%2F478%2F974%2Fbundle%2Farchive.zip%3FX-Goog-Algorithm%3DGOOG4-RSA-SHA256%26X-Goog-Credential%3Dgcp-kaggle-com%2540kaggle-161607.iam.gserviceaccount.com%252F20240919%252Fauto%252Fstorage%252Fgoog4_request%26X-Goog-Date%3D20240919T090007Z%26X-Goog-Expires%3D259200%26X-Goog-SignedHeaders%3Dhost%26X-Goog-Signature%3D9a38443977e751c2b3a4f9ed80f00af3a046d9693eb77d2ac06b504906bed44bf784e3c23a7ea5a5fd45e2ea2a27fb90b429666a421025fea387dc62432d5f03b3a240c7423fa2a9d840cf5bdeb4007a1cd5cc1cd92e73f91276f63abaff1b79be7d91bb21a6f798cc605d884fe5ce1ff6d15d836c88b00debfc0acee52b16baedc19803bec754cb4afc8f9fa42e51aea8b4f774b73e0aee151a0122f8f1965e1eaf1453aecc5cb6d1698b8d3ae48409f77dbc246c382ba332752a5ee4e1c72963e59bc98b5100527177ea09154815c6a7c2ad58a590223979743f5672ce69af6e0a9655442d2cc3e26ef2043f85480b71e66196472e4d23c97b61f888ba4b6a'\n",
        "\n",
        "KAGGLE_INPUT_PATH='/kaggle/input'\n",
        "KAGGLE_WORKING_PATH='/kaggle/working'\n",
        "KAGGLE_SYMLINK='kaggle'\n",
        "\n",
        "!umount /kaggle/input/ 2> /dev/null\n",
        "shutil.rmtree('/kaggle/input', ignore_errors=True)\n",
        "os.makedirs(KAGGLE_INPUT_PATH, 0o777, exist_ok=True)\n",
        "os.makedirs(KAGGLE_WORKING_PATH, 0o777, exist_ok=True)\n",
        "\n",
        "try:\n",
        "  os.symlink(KAGGLE_INPUT_PATH, os.path.join(\"..\", 'input'), target_is_directory=True)\n",
        "except FileExistsError:\n",
        "  pass\n",
        "try:\n",
        "  os.symlink(KAGGLE_WORKING_PATH, os.path.join(\"..\", 'working'), target_is_directory=True)\n",
        "except FileExistsError:\n",
        "  pass\n",
        "\n",
        "for data_source_mapping in DATA_SOURCE_MAPPING.split(','):\n",
        "    directory, download_url_encoded = data_source_mapping.split(':')\n",
        "    download_url = unquote(download_url_encoded)\n",
        "    filename = urlparse(download_url).path\n",
        "    destination_path = os.path.join(KAGGLE_INPUT_PATH, directory)\n",
        "    try:\n",
        "        with urlopen(download_url) as fileres, NamedTemporaryFile() as tfile:\n",
        "            total_length = fileres.headers['content-length']\n",
        "            print(f'Downloading {directory}, {total_length} bytes compressed')\n",
        "            dl = 0\n",
        "            data = fileres.read(CHUNK_SIZE)\n",
        "            while len(data) > 0:\n",
        "                dl += len(data)\n",
        "                tfile.write(data)\n",
        "                done = int(50 * dl / int(total_length))\n",
        "                sys.stdout.write(f\"\\r[{'=' * done}{' ' * (50-done)}] {dl} bytes downloaded\")\n",
        "                sys.stdout.flush()\n",
        "                data = fileres.read(CHUNK_SIZE)\n",
        "            if filename.endswith('.zip'):\n",
        "              with ZipFile(tfile) as zfile:\n",
        "                zfile.extractall(destination_path)\n",
        "            else:\n",
        "              with tarfile.open(tfile.name) as tarfile:\n",
        "                tarfile.extractall(destination_path)\n",
        "            print(f'\\nDownloaded and uncompressed: {directory}')\n",
        "    except HTTPError as e:\n",
        "        print(f'Failed to load (likely expired) {download_url} to path {destination_path}')\n",
        "        continue\n",
        "    except OSError as e:\n",
        "        print(f'Failed to load {download_url} to path {destination_path}')\n",
        "        continue\n",
        "\n",
        "print('Data source import complete.')\n"
      ],
      "metadata": {
        "id": "EUq8GciQgqqI"
      },
      "cell_type": "code",
      "outputs": [],
      "execution_count": null
    },
    {
      "cell_type": "code",
      "source": [
        "# This Python 3 environment comes with many helpful analytics libraries installed\n",
        "# It is defined by the kaggle/python Docker image: https://github.com/kaggle/docker-python\n",
        "# For example, here's several helpful packages to load\n",
        "\n",
        "import numpy as np # linear algebra\n",
        "import pandas as pd # data processing, CSV file I/O (e.g. pd.read_csv)\n",
        "\n",
        "# Input data files are available in the read-only \"../input/\" directory\n",
        "# For example, running this (by clicking run or pressing Shift+Enter) will list all files under the input directory\n",
        "\n",
        "import os\n",
        "for dirname, _, filenames in os.walk('/kaggle/input'):\n",
        "    for filename in filenames:\n",
        "        print(os.path.join(dirname, filename))\n",
        "\n",
        "# You can write up to 20GB to the current directory (/kaggle/working/) that gets preserved as output when you create a version using \"Save & Run All\"\n",
        "# You can also write temporary files to /kaggle/temp/, but they won't be saved outside of the current session"
      ],
      "metadata": {
        "_uuid": "8f2839f25d086af736a60e9eeb907d3b93b6e0e5",
        "_cell_guid": "b1076dfc-b9ad-4769-8c92-a6c4dae69d19",
        "execution": {
          "iopub.status.busy": "2024-09-19T08:20:38.685226Z",
          "iopub.execute_input": "2024-09-19T08:20:38.68592Z",
          "iopub.status.idle": "2024-09-19T08:20:38.697904Z",
          "shell.execute_reply.started": "2024-09-19T08:20:38.68587Z",
          "shell.execute_reply": "2024-09-19T08:20:38.696583Z"
        },
        "trusted": true,
        "id": "NzVhWA-SgqqL"
      },
      "execution_count": null,
      "outputs": []
    },
    {
      "cell_type": "code",
      "source": [
        "df = pd.read_csv('/kaggle/input/mushroom-classification/mushrooms.csv')"
      ],
      "metadata": {
        "execution": {
          "iopub.status.busy": "2024-09-19T08:20:38.699928Z",
          "iopub.execute_input": "2024-09-19T08:20:38.700339Z",
          "iopub.status.idle": "2024-09-19T08:20:38.741947Z",
          "shell.execute_reply.started": "2024-09-19T08:20:38.700292Z",
          "shell.execute_reply": "2024-09-19T08:20:38.740656Z"
        },
        "trusted": true,
        "id": "Dv3ls2OHgqqL"
      },
      "execution_count": null,
      "outputs": []
    },
    {
      "cell_type": "code",
      "source": [
        "# Veri setinin ilk 5 satırını görüntüleyelim\n",
        "df.head()\n",
        "\n",
        "# Veri seti hakkında genel bilgi alalım\n",
        "df.info()\n",
        "\n",
        "# Veri setindeki özet istatistikleri inceleyelim\n",
        "df.describe()"
      ],
      "metadata": {
        "execution": {
          "iopub.status.busy": "2024-09-19T08:20:38.743556Z",
          "iopub.execute_input": "2024-09-19T08:20:38.743988Z",
          "iopub.status.idle": "2024-09-19T08:20:38.844784Z",
          "shell.execute_reply.started": "2024-09-19T08:20:38.743948Z",
          "shell.execute_reply": "2024-09-19T08:20:38.843378Z"
        },
        "trusted": true,
        "id": "Q8b_Az-6gqqM"
      },
      "execution_count": null,
      "outputs": []
    },
    {
      "cell_type": "code",
      "source": [
        "import matplotlib.pyplot as plt\n",
        "import seaborn as sns\n",
        "\n",
        "# Bağımlı değişkenin (class) dağılımı\n",
        "sns.countplot(x='class', data=df)\n",
        "plt.title('Sınıf Dağılımı (Yenilebilir/Zehirli)')\n",
        "plt.show()\n",
        "\n",
        "# Diğer kategorik değişkenlerin bazılarını inceleyelim\n",
        "plt.figure(figsize=(12,6))\n",
        "sns.countplot(x='odor', data=df, hue='class')\n",
        "plt.title('Koku Özelliği ile Sınıf Dağılımı')\n",
        "plt.show()"
      ],
      "metadata": {
        "execution": {
          "iopub.status.busy": "2024-09-19T08:20:38.847842Z",
          "iopub.execute_input": "2024-09-19T08:20:38.848644Z",
          "iopub.status.idle": "2024-09-19T08:20:39.638828Z",
          "shell.execute_reply.started": "2024-09-19T08:20:38.848585Z",
          "shell.execute_reply": "2024-09-19T08:20:39.637641Z"
        },
        "trusted": true,
        "id": "ciiLuKLFgqqN"
      },
      "execution_count": null,
      "outputs": []
    },
    {
      "cell_type": "code",
      "source": [
        "from sklearn.preprocessing import LabelEncoder\n",
        "\n",
        "# Tüm kategorik değişkenleri sayısal hale getirmek için Label Encoding\n",
        "label_encoder = LabelEncoder()\n",
        "\n",
        "for column in df.columns:\n",
        "    df[column] = label_encoder.fit_transform(df[column])\n",
        "\n",
        "# Veri kümesini eğitim ve test olarak bölme\n",
        "from sklearn.model_selection import train_test_split\n",
        "\n",
        "X = df.drop('class', axis=1)  # Bağımsız değişkenler\n",
        "y = df['class']  # Bağımlı değişken (yenilebilir/zehirli)\n",
        "\n",
        "X_train, X_test, y_train, y_test = train_test_split(X, y, test_size=0.2, random_state=42)"
      ],
      "metadata": {
        "execution": {
          "iopub.status.busy": "2024-09-19T08:20:39.640308Z",
          "iopub.execute_input": "2024-09-19T08:20:39.640742Z",
          "iopub.status.idle": "2024-09-19T08:20:39.710374Z",
          "shell.execute_reply.started": "2024-09-19T08:20:39.640698Z",
          "shell.execute_reply": "2024-09-19T08:20:39.709067Z"
        },
        "trusted": true,
        "id": "3so_s088gqqN"
      },
      "execution_count": null,
      "outputs": []
    },
    {
      "cell_type": "code",
      "source": [
        "from sklearn.linear_model import LogisticRegression  # LogisticRegression sınıfını import etmelisiniz\n",
        "from sklearn.metrics import accuracy_score, classification_report  # Doğruluk skoru ve sınıflandırma raporu için gerekli metrikler\n",
        "\n",
        "# İterasyon sayısını artırarak uyarıyı çözebiliriz\n",
        "model = LogisticRegression(max_iter=500)\n",
        "model.fit(X_train, y_train)\n",
        "\n",
        "# Model performansı\n",
        "y_pred = model.predict(X_test)\n",
        "print('Doğruluk Skoru:', accuracy_score(y_test, y_pred))\n",
        "print('Sınıflandırma Raporu:')\n",
        "print(classification_report(y_test, y_pred))\n",
        "\n",
        "from sklearn.cluster import KMeans\n",
        "import seaborn as sns\n",
        "import matplotlib.pyplot as plt\n",
        "\n",
        "# K-Means kümeleme (n_clusters=2 çünkü mantarlar iki sınıfa ayrılıyor)\n",
        "kmeans = KMeans(n_clusters=2, random_state=42, n_init=10)\n",
        "kmeans.fit(X)\n",
        "\n",
        "# Küme etiketlerini ekleyelim\n",
        "df['cluster'] = kmeans.labels_\n",
        "\n",
        "# Kümeleme sonuçlarını inceleyelim\n",
        "sns.countplot(x='cluster', data=df)\n",
        "plt.title('K-Means Kümeleme Sonuçları')\n",
        "plt.show()\n",
        "\n",
        "# Kümelerin sınıflarla nasıl eşleştiğini görelim\n",
        "ct = pd.crosstab(df['class'], df['cluster'])\n",
        "print(ct)"
      ],
      "metadata": {
        "execution": {
          "iopub.status.busy": "2024-09-19T08:20:39.711754Z",
          "iopub.execute_input": "2024-09-19T08:20:39.712143Z",
          "iopub.status.idle": "2024-09-19T08:20:41.850985Z",
          "shell.execute_reply.started": "2024-09-19T08:20:39.712103Z",
          "shell.execute_reply": "2024-09-19T08:20:41.84963Z"
        },
        "trusted": true,
        "id": "RKx5v55KgqqN"
      },
      "execution_count": null,
      "outputs": []
    }
  ]
}